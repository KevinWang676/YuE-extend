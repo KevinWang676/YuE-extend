{
  "cells": [
    {
      "cell_type": "markdown",
      "source": [
        "Colab for https://github.com/Mozer/YuE-extend\n",
        "- It can extend any uploaded mp3\n",
        "- uses exllama2 module\n",
        "- flash_attention 2 is not supported for Tesla T4"
      ],
      "metadata": {
        "id": "YxxMsW65bTkY"
      }
    },
    {
      "cell_type": "markdown",
      "source": [
        "# Install"
      ],
      "metadata": {
        "id": "1AGDa6XIm24q"
      }
    },
    {
      "cell_type": "code",
      "execution_count": null,
      "metadata": {
        "id": "cKLWNc_I9xKn"
      },
      "outputs": [],
      "source": [
        "!pip install exllamav2 flash-attn\n",
        "!git clone https://github.com/Mozer/YuE-extend\n",
        "%cd YuE-extend\n",
        "!pip install -r requirements.txt\n",
        "!git clone https://huggingface.co/m-a-p/xcodec_mini_infer\n",
        "!pip install --upgrade protobuf"
      ]
    },
    {
      "cell_type": "markdown",
      "source": [
        "# Download models"
      ],
      "metadata": {
        "id": "fdBfmbhhmxFF"
      }
    },
    {
      "cell_type": "code",
      "execution_count": null,
      "metadata": {
        "id": "Tl68X2VPAHb8"
      },
      "outputs": [],
      "source": [
        "# download COT s1 + s2 models\n",
        "# you can also download ICL model (optional)\n",
        "!huggingface-cli download Alissonerdx/YuE-s1-7B-anneal-en-cot-exl2-8.0bpw --local-dir workspace/models/YuE-s1-7B-anneal-en-cot-exl2-8.0bpw\n",
        "!huggingface-cli download Alissonerdx/YuE-s2-1B-general-exl2-8.0bpw --local-dir workspace/models/YuE-s2-1B-general-exl2-8.0bpw"
      ]
    },
    {
      "cell_type": "markdown",
      "metadata": {
        "id": "M0g2d7KbLahW"
      },
      "source": [
        "Don't start UI. Google colab doesn't like UIs. Use command line instead. You can edit lyrics and genre in Files on the left -> Yue-extend/prompt_egs/lyrics.txt (double click). Output mp3 will be saved in workspace/outputs/.\n",
        "\n",
        "# lyrics2music"
      ]
    },
    {
      "cell_type": "code",
      "execution_count": null,
      "metadata": {
        "id": "qdYnIUZmAIq-"
      },
      "outputs": [],
      "source": [
        "# simple cot music generation. 1 verse (run_n_segments), 30s (max_new_tokens)\n",
        "!python -u src/yue/infer.py --stage1_use_exl2 --stage1_model \"workspace/models/YuE-s1-7B-anneal-en-cot-exl2-8.0bpw\" --stage1_cache_size 30000 --stage1_cache_mode FP16 --stage2_use_exl2 --stage2_model \"workspace/models/YuE-s2-1B-general-exl2-8.0bpw\" --stage2_cache_size 50000 --stage2_cache_mode 'FP16' --genre_txt \"prompt_egs/genre.txt\" --lyrics_txt \"prompt_egs/lyrics.txt\" --run_n_segments 2 --output_dir workspace/outputs --cuda_idx 0 --seed 42 --max_new_tokens 3000 --basic_model_config xcodec_mini_infer/final_ckpt/config.yaml --resume_path xcodec_mini_infer/final_ckpt/ckpt_00360000.pth --config_path xcodec_mini_infer/decoders/config.yaml --vocal_decoder_path xcodec_mini_infer/decoders/decoder_131000.pth --inst_decoder_path xcodec_mini_infer/decoders/decoder_151000.pth --resume_after_n -1"
      ]
    },
    {
      "cell_type": "markdown",
      "source": [
        "# mp3 extend\n",
        "\n",
        "Trim your mp3 up to 30s. Use \"Files\" menu on the left to upload your split pop.00001.Vocals.mp3 + pop.00001.Instrumental.mp3 to Yue-extend/prompt_egs. To split use: https://huggingface.co/spaces/theneos/audio-separator or other services.\n",
        "Don't forget to update genre.txt and put full lyrics into lyrics.txt"
      ],
      "metadata": {
        "id": "n-xUrRvsZP2B"
      }
    },
    {
      "cell_type": "code",
      "source": [
        "# mp3 extend cot. 1 verse (run_n_segments), 28s (max_new_tokens), 14s from mp3 (extend_mp3_end_time)\n",
        "!python -u src/yue/infer.py --stage1_use_exl2 --stage1_model \"workspace/models/YuE-s1-7B-anneal-en-cot-exl2-8.0bpw\" --stage1_cache_size 25000 --stage1_cache_mode FP16 --stage2_use_exl2 --stage2_model \"workspace/models/YuE-s2-1B-general-exl2-8.0bpw\" --stage2_cache_size 50000 --stage2_cache_mode 'FP16' --genre_txt \"prompt_egs/genre.txt\" --lyrics_txt \"prompt_egs/lyrics.txt\" --run_n_segments 1 --output_dir workspace/outputs --cuda_idx 0 --seed 42 --max_new_tokens 2800 --basic_model_config xcodec_mini_infer/final_ckpt/config.yaml --resume_path xcodec_mini_infer/final_ckpt/ckpt_00360000.pth --config_path xcodec_mini_infer/decoders/config.yaml --vocal_decoder_path xcodec_mini_infer/decoders/decoder_131000.pth --inst_decoder_path xcodec_mini_infer/decoders/decoder_151000.pth --extend_mp3 --vocal_track_prompt_path \"prompt_egs/pop.00001.Vocals.mp3\" --instrumental_track_prompt_path \"prompt_egs/pop.00001.Instrumental.mp3\" --extend_mp3_end_time 14 --prompt_start_time 0 --prompt_end_time 30 --resume_after_n -1"
      ],
      "metadata": {
        "id": "kmrxODlFY8Fo"
      },
      "execution_count": null,
      "outputs": []
    }
  ],
  "metadata": {
    "accelerator": "GPU",
    "colab": {
      "gpuType": "T4",
      "provenance": []
    },
    "kernelspec": {
      "display_name": "Python 3",
      "name": "python3"
    },
    "language_info": {
      "name": "python"
    }
  },
  "nbformat": 4,
  "nbformat_minor": 0
}